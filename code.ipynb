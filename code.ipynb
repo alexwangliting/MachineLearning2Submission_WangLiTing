{
 "cells": [
  {
   "cell_type": "code",
   "execution_count": null,
   "metadata": {},
   "outputs": [],
   "source": [
    "# model1: https://drive.google.com/file/d/1Y_IVtghuuCOVU3yKhArpkmdDS_QCV_i7/view?usp=sharing\n",
    "\n",
    "# model2: \n",
    "\n",
    "# model3: https://drive.google.com/file/d/1oxK3Zr4YlzXqpbF_S98F_yyH4rrJV20e/view?usp=sharing"
   ]
  }
 ],
 "metadata": {
  "language_info": {
   "name": "python"
  }
 },
 "nbformat": 4,
 "nbformat_minor": 2
}
